{
 "cells": [
  {
   "cell_type": "code",
   "execution_count": 1,
   "metadata": {},
   "outputs": [
    {
     "name": "stdout",
     "output_type": "stream",
     "text": [
      "c:\\Users\\heegyukim\\Desktop\\project\\gated-detoxifier\\GeDi\n"
     ]
    }
   ],
   "source": [
    "%cd GeDi"
   ]
  },
  {
   "cell_type": "code",
   "execution_count": 3,
   "metadata": {},
   "outputs": [],
   "source": [
    "import os\n",
    "\n",
    "def run(model, prompt, tokens):\n",
    "    PROMPTS_DATASET=f\"../DExperts/prompts/{prompt}.jsonl\"\n",
    "    os.system(f\"\"\"python run_gedi.py \\\n",
    "        --use-dataset \\\n",
    "        --dataset-file {PROMPTS_DATASET} \\\n",
    "        --model {model} \\\n",
    "        --n 1 \\\n",
    "        --max-tokens {tokens} \\\n",
    "        \\\"../data/v1/gedi/{prompt}/\\\"\"\"\"\n",
    "    )\n",
    "\n",
    "\n",
    "run(\"heegyu/gpt2-yelp-polarity\", \"sentiment-5\", 32)\n",
    "# run \"heegyu/gpt2-emotion\" \"emotion-5\" 32\n",
    "# run \"heegyu/gpt2-news-category\" \"news-10\" 48\n",
    "\n",
    "# run \"heegyu/gpt2-yelp-polarity\" \"sentiment-1000\" 32\n",
    "# run \"heegyu/gpt2-emotion\" \"emotion-1000\" 32\n",
    "# run \"heegyu/gpt2-news-category\" \"news-1000\" 48"
   ]
  }
 ],
 "metadata": {
  "kernelspec": {
   "display_name": "gedi",
   "language": "python",
   "name": "python3"
  },
  "language_info": {
   "codemirror_mode": {
    "name": "ipython",
    "version": 3
   },
   "file_extension": ".py",
   "mimetype": "text/x-python",
   "name": "python",
   "nbconvert_exporter": "python",
   "pygments_lexer": "ipython3",
   "version": "3.9.16"
  },
  "orig_nbformat": 4,
  "vscode": {
   "interpreter": {
    "hash": "da88572874ee8aab5163304befaa87140d6d4791e914173cd01313ffbc3a091f"
   }
  }
 },
 "nbformat": 4,
 "nbformat_minor": 2
}
