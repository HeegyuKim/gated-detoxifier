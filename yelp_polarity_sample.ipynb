{
 "cells": [
  {
   "cell_type": "code",
   "execution_count": 1,
   "metadata": {},
   "outputs": [],
   "source": [
    "import pandas as pd"
   ]
  },
  {
   "cell_type": "code",
   "execution_count": 6,
   "metadata": {},
   "outputs": [
    {
     "data": {
      "text/html": [
       "<div>\n",
       "<style scoped>\n",
       "    .dataframe tbody tr th:only-of-type {\n",
       "        vertical-align: middle;\n",
       "    }\n",
       "\n",
       "    .dataframe tbody tr th {\n",
       "        vertical-align: top;\n",
       "    }\n",
       "\n",
       "    .dataframe thead th {\n",
       "        text-align: right;\n",
       "    }\n",
       "</style>\n",
       "<table border=\"1\" class=\"dataframe\">\n",
       "  <thead>\n",
       "    <tr style=\"text-align: right;\">\n",
       "      <th></th>\n",
       "      <th>label</th>\n",
       "      <th>text</th>\n",
       "    </tr>\n",
       "  </thead>\n",
       "  <tbody>\n",
       "    <tr>\n",
       "      <th>0</th>\n",
       "      <td>0</td>\n",
       "      <td>Unfortunately, the frustration of being Dr. Go...</td>\n",
       "    </tr>\n",
       "    <tr>\n",
       "      <th>1</th>\n",
       "      <td>1</td>\n",
       "      <td>Been going to Dr. Goldberg for over 10 years. ...</td>\n",
       "    </tr>\n",
       "    <tr>\n",
       "      <th>2</th>\n",
       "      <td>0</td>\n",
       "      <td>I don't know what Dr. Goldberg was like before...</td>\n",
       "    </tr>\n",
       "    <tr>\n",
       "      <th>3</th>\n",
       "      <td>0</td>\n",
       "      <td>I'm writing this review to give you a heads up...</td>\n",
       "    </tr>\n",
       "    <tr>\n",
       "      <th>4</th>\n",
       "      <td>1</td>\n",
       "      <td>All the food is great here. But the best thing...</td>\n",
       "    </tr>\n",
       "    <tr>\n",
       "      <th>...</th>\n",
       "      <td>...</td>\n",
       "      <td>...</td>\n",
       "    </tr>\n",
       "    <tr>\n",
       "      <th>559995</th>\n",
       "      <td>1</td>\n",
       "      <td>Ryan was as good as everyone on yelp has claim...</td>\n",
       "    </tr>\n",
       "    <tr>\n",
       "      <th>559996</th>\n",
       "      <td>1</td>\n",
       "      <td>Professional \\nFriendly\\nOn time AND affordabl...</td>\n",
       "    </tr>\n",
       "    <tr>\n",
       "      <th>559997</th>\n",
       "      <td>0</td>\n",
       "      <td>Phone calls always go to voicemail and message...</td>\n",
       "    </tr>\n",
       "    <tr>\n",
       "      <th>559998</th>\n",
       "      <td>0</td>\n",
       "      <td>Looks like all of the good reviews have gone t...</td>\n",
       "    </tr>\n",
       "    <tr>\n",
       "      <th>559999</th>\n",
       "      <td>1</td>\n",
       "      <td>Ryan Rocks! I called him this morning for some...</td>\n",
       "    </tr>\n",
       "  </tbody>\n",
       "</table>\n",
       "<p>560000 rows × 2 columns</p>\n",
       "</div>"
      ],
      "text/plain": [
       "        label                                               text\n",
       "0           0  Unfortunately, the frustration of being Dr. Go...\n",
       "1           1  Been going to Dr. Goldberg for over 10 years. ...\n",
       "2           0  I don't know what Dr. Goldberg was like before...\n",
       "3           0  I'm writing this review to give you a heads up...\n",
       "4           1  All the food is great here. But the best thing...\n",
       "...       ...                                                ...\n",
       "559995      1  Ryan was as good as everyone on yelp has claim...\n",
       "559996      1  Professional \\nFriendly\\nOn time AND affordabl...\n",
       "559997      0  Phone calls always go to voicemail and message...\n",
       "559998      0  Looks like all of the good reviews have gone t...\n",
       "559999      1  Ryan Rocks! I called him this morning for some...\n",
       "\n",
       "[560000 rows x 2 columns]"
      ]
     },
     "execution_count": 6,
     "metadata": {},
     "output_type": "execute_result"
    }
   ],
   "source": [
    "df = pd.read_csv(\"data/yelp-polarity-sampled/train.csv\", header=None, names=[\"label\", \"text\"])\n",
    "df.label = df.label - 1\n",
    "dfd"
   ]
  },
  {
   "cell_type": "code",
   "execution_count": 30,
   "metadata": {},
   "outputs": [
    {
     "data": {
      "text/plain": [
       "count    560000.000000\n",
       "mean        855.302652\n",
       "std         788.925383\n",
       "min           1.000000\n",
       "25%         328.000000\n",
       "50%         622.000000\n",
       "75%        1115.000000\n",
       "max        6149.000000\n",
       "Name: length, dtype: float64"
      ]
     },
     "execution_count": 30,
     "metadata": {},
     "output_type": "execute_result"
    }
   ],
   "source": [
    "import re\n",
    "\n",
    "\n",
    "def clean(x):\n",
    "    x = x.strip()\n",
    "    x = re.sub(r\"(\\s)+\", \"$1\", x)\n",
    "    return len(x.strip())\n",
    "df[\"length\"] = df.text.apply(clean)\n",
    "df.length.describe()"
   ]
  },
  {
   "cell_type": "code",
   "execution_count": 53,
   "metadata": {},
   "outputs": [
    {
     "data": {
      "text/plain": [
       "['Walked throughout here to check out their gambling scene and they seriously need an update!! Everything looked very old and worn out. The atmosphere was very dead and dull. Was not excited to try and gamble here at all!',\n",
       " 'So far so good. Only been here one time and I got the chicken bowl. Was hot and fresh. I would return here again to try some more things. Service was friendly and my to go order came out pretty quick.  Oh and their chocolate chip cookies were delicious!',\n",
       " \"The wings were amazing. The mac and cheese was amazing. Really enjoyed this place and can't wait to eat here again. \\\\n\\\\nEveryone on the staff was very friendly and accommodating.\",\n",
       " \"A great place to relax outside and have a beer.  Great beer specials during the week.  It's not really a great place for food, as it is definitely more of a bar than a grill.  The bartenders are very good and always fast to get you a cold one!\",\n",
       " \"We were in Vegas a week ago and a friend of ours told us to try this place out, food was awesome and the service was great. I would recommend you try it out if you're in Vegas its a little far from the stripe but worth the drive.\",\n",
       " 'Terrible service was not helped for 10 min not one person in the restaurant . Very unfriendly staff rude and demeaning . NEVER GOING BACK!!!!!!  I Will be telling Everyone I know  TO STAY AWAY !!! And The Sandwich Was So Bland!!',\n",
       " \"So I like tubing from Laughlin better, and I'll tell ya why:\\\\n\\\\nNO RAPIDS TO MOLEST MY BUTT\\\\n\\\\nThat's all.\\\\n\\\\nThe rapids here are so rude, but that is my only issue with Salt River-- everything else is rad.\",\n",
       " 'Restroom needed some touched up. On the way to restroom passing by bar area paper towel on the floor displayed look unsanitary. Plate for bread needed to be checked under for remains of food sticked in it. \\\\nPresentation',\n",
       " \"This has to have been the worst ding experience I've ever had, bordering on abusive service. We ended up asking for the check before the mains arrived but more than an hour after being seated. It was not busy.\",\n",
       " 'Monster Framing & Art Gallery really helped me make the right choice for a romantic gift.  These guys are really knowledgeable about all the different options for custom framing and were very patient in helping me create the perfect gift.']"
      ]
     },
     "execution_count": 53,
     "metadata": {},
     "output_type": "execute_result"
    }
   ],
   "source": [
    "df[df.length.between(200, 300)].sample(10).text.tolist()"
   ]
  }
 ],
 "metadata": {
  "kernelspec": {
   "display_name": "base",
   "language": "python",
   "name": "python3"
  },
  "language_info": {
   "codemirror_mode": {
    "name": "ipython",
    "version": 3
   },
   "file_extension": ".py",
   "mimetype": "text/x-python",
   "name": "python",
   "nbconvert_exporter": "python",
   "pygments_lexer": "ipython3",
   "version": "3.9.7"
  },
  "orig_nbformat": 4,
  "vscode": {
   "interpreter": {
    "hash": "b09ec625f77bf4fd762565a912b97636504ad6ec901eb2d0f4cf5a7de23e1ee5"
   }
  }
 },
 "nbformat": 4,
 "nbformat_minor": 2
}
